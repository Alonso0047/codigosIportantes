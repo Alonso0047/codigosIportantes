{
 "cells": [
  {
   "cell_type": "code",
   "execution_count": 1,
   "id": "a1fca99e-c9d8-49af-b055-fafa52f25fdf",
   "metadata": {},
   "outputs": [],
   "source": [
    "import pandas as pd"
   ]
  },
  {
   "cell_type": "code",
   "execution_count": 2,
   "id": "e7889fc9-5f51-4df0-9aa5-2db21132724b",
   "metadata": {},
   "outputs": [],
   "source": [
    "df = pd.read_csv('Alumnos.csv')"
   ]
  },
  {
   "cell_type": "code",
   "execution_count": 3,
   "id": "f6973ee1-4a40-4031-b8f1-a157d0951743",
   "metadata": {
    "scrolled": true
   },
   "outputs": [
    {
     "data": {
      "text/html": [
       "<div>\n",
       "<style scoped>\n",
       "    .dataframe tbody tr th:only-of-type {\n",
       "        vertical-align: middle;\n",
       "    }\n",
       "\n",
       "    .dataframe tbody tr th {\n",
       "        vertical-align: top;\n",
       "    }\n",
       "\n",
       "    .dataframe thead th {\n",
       "        text-align: right;\n",
       "    }\n",
       "</style>\n",
       "<table border=\"1\" class=\"dataframe\">\n",
       "  <thead>\n",
       "    <tr style=\"text-align: right;\">\n",
       "      <th></th>\n",
       "      <th>Nombre</th>\n",
       "      <th>Edad</th>\n",
       "      <th>Genero</th>\n",
       "      <th>Carrera</th>\n",
       "      <th>Semestre</th>\n",
       "    </tr>\n",
       "  </thead>\n",
       "  <tbody>\n",
       "    <tr>\n",
       "      <th>0</th>\n",
       "      <td>Victor</td>\n",
       "      <td>28</td>\n",
       "      <td>M</td>\n",
       "      <td>Auditoria</td>\n",
       "      <td>Primero</td>\n",
       "    </tr>\n",
       "    <tr>\n",
       "      <th>1</th>\n",
       "      <td>Laura</td>\n",
       "      <td>23</td>\n",
       "      <td>F</td>\n",
       "      <td>Informatica</td>\n",
       "      <td>Primero</td>\n",
       "    </tr>\n",
       "    <tr>\n",
       "      <th>2</th>\n",
       "      <td>Raul</td>\n",
       "      <td>26</td>\n",
       "      <td>M</td>\n",
       "      <td>Derecho</td>\n",
       "      <td>Quinto</td>\n",
       "    </tr>\n",
       "    <tr>\n",
       "      <th>3</th>\n",
       "      <td>Lucia</td>\n",
       "      <td>27</td>\n",
       "      <td>F</td>\n",
       "      <td>Informatica</td>\n",
       "      <td>Septimo</td>\n",
       "    </tr>\n",
       "    <tr>\n",
       "      <th>4</th>\n",
       "      <td>Rodrigo</td>\n",
       "      <td>22</td>\n",
       "      <td>M</td>\n",
       "      <td>Derecho</td>\n",
       "      <td>Tercero</td>\n",
       "    </tr>\n",
       "    <tr>\n",
       "      <th>5</th>\n",
       "      <td>Luis</td>\n",
       "      <td>25</td>\n",
       "      <td>M</td>\n",
       "      <td>Arquitectura</td>\n",
       "      <td>Septimo</td>\n",
       "    </tr>\n",
       "    <tr>\n",
       "      <th>6</th>\n",
       "      <td>Ana</td>\n",
       "      <td>23</td>\n",
       "      <td>F</td>\n",
       "      <td>Informatica</td>\n",
       "      <td>Primero</td>\n",
       "    </tr>\n",
       "    <tr>\n",
       "      <th>7</th>\n",
       "      <td>Joaquin</td>\n",
       "      <td>24</td>\n",
       "      <td>M</td>\n",
       "      <td>Economia</td>\n",
       "      <td>Noveno</td>\n",
       "    </tr>\n",
       "  </tbody>\n",
       "</table>\n",
       "</div>"
      ],
      "text/plain": [
       "   Nombre   Edad Genero       Carrera Semestre\n",
       "0   Victor    28      M     Auditoria  Primero\n",
       "1    Laura    23      F   Informatica  Primero\n",
       "2     Raul    26      M       Derecho   Quinto\n",
       "3    Lucia    27      F   Informatica  Septimo\n",
       "4  Rodrigo    22      M       Derecho  Tercero\n",
       "5     Luis    25      M  Arquitectura  Septimo\n",
       "6      Ana    23      F   Informatica  Primero\n",
       "7  Joaquin    24      M      Economia   Noveno"
      ]
     },
     "execution_count": 3,
     "metadata": {},
     "output_type": "execute_result"
    }
   ],
   "source": [
    "df"
   ]
  },
  {
   "cell_type": "code",
   "execution_count": 30,
   "id": "ccfc0533-3944-4eff-9c19-dbf49dc7be0f",
   "metadata": {},
   "outputs": [
    {
     "data": {
      "text/plain": [
       "'Victor'"
      ]
     },
     "execution_count": 30,
     "metadata": {},
     "output_type": "execute_result"
    }
   ],
   "source": [
    "df.iloc[0,0]"
   ]
  },
  {
   "cell_type": "code",
   "execution_count": 7,
   "id": "a4126194-7a64-4599-8c9d-0ad0d2f5eb77",
   "metadata": {},
   "outputs": [
    {
     "data": {
      "text/plain": [
       "Nombre         Raul\n",
       "Edad             26\n",
       "Genero            M\n",
       "Carrera     Derecho\n",
       "Semestre     Quinto\n",
       "Name: 2, dtype: object"
      ]
     },
     "execution_count": 7,
     "metadata": {},
     "output_type": "execute_result"
    }
   ],
   "source": [
    "df.iloc[2,:5]"
   ]
  },
  {
   "cell_type": "code",
   "execution_count": 23,
   "id": "182683bc-5df8-4486-b8ff-712f238d521e",
   "metadata": {},
   "outputs": [
    {
     "data": {
      "text/plain": [
       "'Quinto'"
      ]
     },
     "execution_count": 23,
     "metadata": {},
     "output_type": "execute_result"
    }
   ],
   "source": [
    "df.loc[2,'Semestre']"
   ]
  },
  {
   "cell_type": "code",
   "execution_count": 25,
   "id": "82edfd29-3045-427f-abf0-bc58c2bd0fb1",
   "metadata": {},
   "outputs": [
    {
     "data": {
      "text/html": [
       "<div>\n",
       "<style scoped>\n",
       "    .dataframe tbody tr th:only-of-type {\n",
       "        vertical-align: middle;\n",
       "    }\n",
       "\n",
       "    .dataframe tbody tr th {\n",
       "        vertical-align: top;\n",
       "    }\n",
       "\n",
       "    .dataframe thead th {\n",
       "        text-align: right;\n",
       "    }\n",
       "</style>\n",
       "<table border=\"1\" class=\"dataframe\">\n",
       "  <thead>\n",
       "    <tr style=\"text-align: right;\">\n",
       "      <th></th>\n",
       "      <th>Semestre</th>\n",
       "      <th>Edad</th>\n",
       "    </tr>\n",
       "  </thead>\n",
       "  <tbody>\n",
       "    <tr>\n",
       "      <th>0</th>\n",
       "      <td>Primero</td>\n",
       "      <td>28</td>\n",
       "    </tr>\n",
       "    <tr>\n",
       "      <th>1</th>\n",
       "      <td>Primero</td>\n",
       "      <td>23</td>\n",
       "    </tr>\n",
       "    <tr>\n",
       "      <th>2</th>\n",
       "      <td>Quinto</td>\n",
       "      <td>26</td>\n",
       "    </tr>\n",
       "    <tr>\n",
       "      <th>3</th>\n",
       "      <td>Septimo</td>\n",
       "      <td>27</td>\n",
       "    </tr>\n",
       "  </tbody>\n",
       "</table>\n",
       "</div>"
      ],
      "text/plain": [
       "  Semestre  Edad\n",
       "0  Primero    28\n",
       "1  Primero    23\n",
       "2   Quinto    26\n",
       "3  Septimo    27"
      ]
     },
     "execution_count": 25,
     "metadata": {},
     "output_type": "execute_result"
    }
   ],
   "source": [
    "df.loc[:3, ('Semestre', 'Edad')]"
   ]
  },
  {
   "cell_type": "code",
   "execution_count": 32,
   "id": "ddb3615b-dbc6-4705-9805-e2aa13ccce2d",
   "metadata": {},
   "outputs": [],
   "source": [
    "# Añadir columnas"
   ]
  },
  {
   "cell_type": "code",
   "execution_count": 36,
   "id": "51ca682d-4bc1-4f22-9f4b-4f84cfc8c83e",
   "metadata": {},
   "outputs": [],
   "source": [
    "df['Turnos'] = pd.Series(['Tarde','Mañanas','Mañanas','Mañanas','Tarde','Tarde','Mañanas','Tarde'])"
   ]
  },
  {
   "cell_type": "code",
   "execution_count": 37,
   "id": "14a067e2-f388-4797-a310-fb16b68b1c06",
   "metadata": {},
   "outputs": [
    {
     "data": {
      "text/html": [
       "<div>\n",
       "<style scoped>\n",
       "    .dataframe tbody tr th:only-of-type {\n",
       "        vertical-align: middle;\n",
       "    }\n",
       "\n",
       "    .dataframe tbody tr th {\n",
       "        vertical-align: top;\n",
       "    }\n",
       "\n",
       "    .dataframe thead th {\n",
       "        text-align: right;\n",
       "    }\n",
       "</style>\n",
       "<table border=\"1\" class=\"dataframe\">\n",
       "  <thead>\n",
       "    <tr style=\"text-align: right;\">\n",
       "      <th></th>\n",
       "      <th>Nombre</th>\n",
       "      <th>Edad</th>\n",
       "      <th>Genero</th>\n",
       "      <th>Carrera</th>\n",
       "      <th>Semestre</th>\n",
       "      <th>Turnos</th>\n",
       "    </tr>\n",
       "  </thead>\n",
       "  <tbody>\n",
       "    <tr>\n",
       "      <th>0</th>\n",
       "      <td>Victor</td>\n",
       "      <td>28</td>\n",
       "      <td>M</td>\n",
       "      <td>Auditoria</td>\n",
       "      <td>Primero</td>\n",
       "      <td>Tarde</td>\n",
       "    </tr>\n",
       "    <tr>\n",
       "      <th>1</th>\n",
       "      <td>Laura</td>\n",
       "      <td>23</td>\n",
       "      <td>F</td>\n",
       "      <td>Informatica</td>\n",
       "      <td>Primero</td>\n",
       "      <td>Mañanas</td>\n",
       "    </tr>\n",
       "    <tr>\n",
       "      <th>2</th>\n",
       "      <td>Raul</td>\n",
       "      <td>26</td>\n",
       "      <td>M</td>\n",
       "      <td>Derecho</td>\n",
       "      <td>Quinto</td>\n",
       "      <td>Mañanas</td>\n",
       "    </tr>\n",
       "    <tr>\n",
       "      <th>3</th>\n",
       "      <td>Lucia</td>\n",
       "      <td>27</td>\n",
       "      <td>F</td>\n",
       "      <td>Informatica</td>\n",
       "      <td>Septimo</td>\n",
       "      <td>Mañanas</td>\n",
       "    </tr>\n",
       "    <tr>\n",
       "      <th>4</th>\n",
       "      <td>Rodrigo</td>\n",
       "      <td>22</td>\n",
       "      <td>M</td>\n",
       "      <td>Derecho</td>\n",
       "      <td>Tercero</td>\n",
       "      <td>Tarde</td>\n",
       "    </tr>\n",
       "    <tr>\n",
       "      <th>5</th>\n",
       "      <td>Luis</td>\n",
       "      <td>25</td>\n",
       "      <td>M</td>\n",
       "      <td>Arquitectura</td>\n",
       "      <td>Septimo</td>\n",
       "      <td>Tarde</td>\n",
       "    </tr>\n",
       "    <tr>\n",
       "      <th>6</th>\n",
       "      <td>Ana</td>\n",
       "      <td>23</td>\n",
       "      <td>F</td>\n",
       "      <td>Informatica</td>\n",
       "      <td>Primero</td>\n",
       "      <td>Mañanas</td>\n",
       "    </tr>\n",
       "    <tr>\n",
       "      <th>7</th>\n",
       "      <td>Joaquin</td>\n",
       "      <td>24</td>\n",
       "      <td>M</td>\n",
       "      <td>Economia</td>\n",
       "      <td>Noveno</td>\n",
       "      <td>Tarde</td>\n",
       "    </tr>\n",
       "  </tbody>\n",
       "</table>\n",
       "</div>"
      ],
      "text/plain": [
       "   Nombre   Edad Genero       Carrera Semestre   Turnos\n",
       "0   Victor    28      M     Auditoria  Primero    Tarde\n",
       "1    Laura    23      F   Informatica  Primero  Mañanas\n",
       "2     Raul    26      M       Derecho   Quinto  Mañanas\n",
       "3    Lucia    27      F   Informatica  Septimo  Mañanas\n",
       "4  Rodrigo    22      M       Derecho  Tercero    Tarde\n",
       "5     Luis    25      M  Arquitectura  Septimo    Tarde\n",
       "6      Ana    23      F   Informatica  Primero  Mañanas\n",
       "7  Joaquin    24      M      Economia   Noveno    Tarde"
      ]
     },
     "execution_count": 37,
     "metadata": {},
     "output_type": "execute_result"
    }
   ],
   "source": [
    "df"
   ]
  },
  {
   "cell_type": "code",
   "execution_count": 39,
   "id": "c1742154-374c-47d2-a123-4ea2ad5618c4",
   "metadata": {},
   "outputs": [],
   "source": [
    "semestre = df.pop('Semestre')"
   ]
  },
  {
   "cell_type": "code",
   "execution_count": 40,
   "id": "97073a3d-7dae-4f46-b503-a04b793b9ac7",
   "metadata": {},
   "outputs": [
    {
     "data": {
      "text/html": [
       "<div>\n",
       "<style scoped>\n",
       "    .dataframe tbody tr th:only-of-type {\n",
       "        vertical-align: middle;\n",
       "    }\n",
       "\n",
       "    .dataframe tbody tr th {\n",
       "        vertical-align: top;\n",
       "    }\n",
       "\n",
       "    .dataframe thead th {\n",
       "        text-align: right;\n",
       "    }\n",
       "</style>\n",
       "<table border=\"1\" class=\"dataframe\">\n",
       "  <thead>\n",
       "    <tr style=\"text-align: right;\">\n",
       "      <th></th>\n",
       "      <th>Nombre</th>\n",
       "      <th>Edad</th>\n",
       "      <th>Genero</th>\n",
       "      <th>Carrera</th>\n",
       "      <th>Turnos</th>\n",
       "    </tr>\n",
       "  </thead>\n",
       "  <tbody>\n",
       "    <tr>\n",
       "      <th>0</th>\n",
       "      <td>Victor</td>\n",
       "      <td>28</td>\n",
       "      <td>M</td>\n",
       "      <td>Auditoria</td>\n",
       "      <td>Tarde</td>\n",
       "    </tr>\n",
       "    <tr>\n",
       "      <th>1</th>\n",
       "      <td>Laura</td>\n",
       "      <td>23</td>\n",
       "      <td>F</td>\n",
       "      <td>Informatica</td>\n",
       "      <td>Mañanas</td>\n",
       "    </tr>\n",
       "    <tr>\n",
       "      <th>2</th>\n",
       "      <td>Raul</td>\n",
       "      <td>26</td>\n",
       "      <td>M</td>\n",
       "      <td>Derecho</td>\n",
       "      <td>Mañanas</td>\n",
       "    </tr>\n",
       "    <tr>\n",
       "      <th>3</th>\n",
       "      <td>Lucia</td>\n",
       "      <td>27</td>\n",
       "      <td>F</td>\n",
       "      <td>Informatica</td>\n",
       "      <td>Mañanas</td>\n",
       "    </tr>\n",
       "    <tr>\n",
       "      <th>4</th>\n",
       "      <td>Rodrigo</td>\n",
       "      <td>22</td>\n",
       "      <td>M</td>\n",
       "      <td>Derecho</td>\n",
       "      <td>Tarde</td>\n",
       "    </tr>\n",
       "    <tr>\n",
       "      <th>5</th>\n",
       "      <td>Luis</td>\n",
       "      <td>25</td>\n",
       "      <td>M</td>\n",
       "      <td>Arquitectura</td>\n",
       "      <td>Tarde</td>\n",
       "    </tr>\n",
       "    <tr>\n",
       "      <th>6</th>\n",
       "      <td>Ana</td>\n",
       "      <td>23</td>\n",
       "      <td>F</td>\n",
       "      <td>Informatica</td>\n",
       "      <td>Mañanas</td>\n",
       "    </tr>\n",
       "    <tr>\n",
       "      <th>7</th>\n",
       "      <td>Joaquin</td>\n",
       "      <td>24</td>\n",
       "      <td>M</td>\n",
       "      <td>Economia</td>\n",
       "      <td>Tarde</td>\n",
       "    </tr>\n",
       "  </tbody>\n",
       "</table>\n",
       "</div>"
      ],
      "text/plain": [
       "   Nombre   Edad Genero       Carrera   Turnos\n",
       "0   Victor    28      M     Auditoria    Tarde\n",
       "1    Laura    23      F   Informatica  Mañanas\n",
       "2     Raul    26      M       Derecho  Mañanas\n",
       "3    Lucia    27      F   Informatica  Mañanas\n",
       "4  Rodrigo    22      M       Derecho    Tarde\n",
       "5     Luis    25      M  Arquitectura    Tarde\n",
       "6      Ana    23      F   Informatica  Mañanas\n",
       "7  Joaquin    24      M      Economia    Tarde"
      ]
     },
     "execution_count": 40,
     "metadata": {},
     "output_type": "execute_result"
    }
   ],
   "source": [
    "df"
   ]
  },
  {
   "cell_type": "code",
   "execution_count": 65,
   "id": "4963a64b-089c-45f2-b48d-0d4e01c60ee2",
   "metadata": {},
   "outputs": [],
   "source": [
    "new_row = pd.Series(['Beatriz', '21', 'F', 'Ingieneria', 'Mañanas'], index=['Nombre', 'Edad', 'Genero', 'Carrera', 'Turnos'])"
   ]
  },
  {
   "cell_type": "code",
   "execution_count": 68,
   "id": "01ddfbc3-2f2e-405d-85ef-bb198c517d9b",
   "metadata": {},
   "outputs": [],
   "source": [
    "df = pd.concat([df,new_row.to_frame().T], ignore_index=True)"
   ]
  },
  {
   "cell_type": "code",
   "execution_count": 69,
   "id": "16faefce-5b22-44b5-a098-2f13a433af19",
   "metadata": {},
   "outputs": [],
   "source": [
    "df.to_csv('Alumnos.csv', index=False)"
   ]
  },
  {
   "cell_type": "code",
   "execution_count": 70,
   "id": "f8fb5615-3038-43a4-bebb-76d8579ce493",
   "metadata": {},
   "outputs": [
    {
     "data": {
      "text/html": [
       "<div>\n",
       "<style scoped>\n",
       "    .dataframe tbody tr th:only-of-type {\n",
       "        vertical-align: middle;\n",
       "    }\n",
       "\n",
       "    .dataframe tbody tr th {\n",
       "        vertical-align: top;\n",
       "    }\n",
       "\n",
       "    .dataframe thead th {\n",
       "        text-align: right;\n",
       "    }\n",
       "</style>\n",
       "<table border=\"1\" class=\"dataframe\">\n",
       "  <thead>\n",
       "    <tr style=\"text-align: right;\">\n",
       "      <th></th>\n",
       "      <th>Nombre</th>\n",
       "      <th>Edad</th>\n",
       "      <th>Genero</th>\n",
       "      <th>Carrera</th>\n",
       "      <th>Turnos</th>\n",
       "    </tr>\n",
       "  </thead>\n",
       "  <tbody>\n",
       "    <tr>\n",
       "      <th>0</th>\n",
       "      <td>Beatriz</td>\n",
       "      <td>21</td>\n",
       "      <td>F</td>\n",
       "      <td>Ingieneria</td>\n",
       "      <td>Mañanas</td>\n",
       "    </tr>\n",
       "    <tr>\n",
       "      <th>1</th>\n",
       "      <td>Beatriz</td>\n",
       "      <td>21</td>\n",
       "      <td>F</td>\n",
       "      <td>Ingieneria</td>\n",
       "      <td>Mañanas</td>\n",
       "    </tr>\n",
       "    <tr>\n",
       "      <th>2</th>\n",
       "      <td>Beatriz</td>\n",
       "      <td>21</td>\n",
       "      <td>F</td>\n",
       "      <td>Ingieneria</td>\n",
       "      <td>Mañanas</td>\n",
       "    </tr>\n",
       "    <tr>\n",
       "      <th>3</th>\n",
       "      <td>Beatriz</td>\n",
       "      <td>21</td>\n",
       "      <td>F</td>\n",
       "      <td>Ingieneria</td>\n",
       "      <td>Mañanas</td>\n",
       "    </tr>\n",
       "  </tbody>\n",
       "</table>\n",
       "</div>"
      ],
      "text/plain": [
       "    Nombre Edad Genero     Carrera   Turnos\n",
       "0  Beatriz   21      F  Ingieneria  Mañanas\n",
       "1  Beatriz   21      F  Ingieneria  Mañanas\n",
       "2  Beatriz   21      F  Ingieneria  Mañanas\n",
       "3  Beatriz   21      F  Ingieneria  Mañanas"
      ]
     },
     "execution_count": 70,
     "metadata": {},
     "output_type": "execute_result"
    }
   ],
   "source": [
    "df"
   ]
  },
  {
   "cell_type": "code",
   "execution_count": null,
   "id": "ae6449d9-4511-4c45-86c4-864e19ca1725",
   "metadata": {},
   "outputs": [],
   "source": []
  }
 ],
 "metadata": {
  "kernelspec": {
   "display_name": "Python 3 (ipykernel)",
   "language": "python",
   "name": "python3"
  },
  "language_info": {
   "codemirror_mode": {
    "name": "ipython",
    "version": 3
   },
   "file_extension": ".py",
   "mimetype": "text/x-python",
   "name": "python",
   "nbconvert_exporter": "python",
   "pygments_lexer": "ipython3",
   "version": "3.11.7"
  }
 },
 "nbformat": 4,
 "nbformat_minor": 5
}
