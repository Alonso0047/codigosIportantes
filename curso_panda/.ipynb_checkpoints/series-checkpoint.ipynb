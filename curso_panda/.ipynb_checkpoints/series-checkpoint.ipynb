{
 "cells": [
  {
   "cell_type": "code",
   "execution_count": 1,
   "id": "a7dd4581-6502-4a8b-9493-54195153e137",
   "metadata": {},
   "outputs": [],
   "source": [
    "import pandas as pd"
   ]
  },
  {
   "cell_type": "code",
   "execution_count": 2,
   "id": "421a4fa5-83dc-4b56-8fa1-f10f8d730e3f",
   "metadata": {},
   "outputs": [],
   "source": [
    "colores = pd.Series(['rojo', 'azul', 'amarillo', 'verde', 'morado'])"
   ]
  },
  {
   "cell_type": "code",
   "execution_count": 3,
   "id": "69af4088-304c-4453-ad95-35d9adc9c4d2",
   "metadata": {},
   "outputs": [
    {
     "name": "stdout",
     "output_type": "stream",
     "text": [
      "0        rojo\n",
      "1        azul\n",
      "2    amarillo\n",
      "3       verde\n",
      "4      morado\n",
      "dtype: object\n"
     ]
    }
   ],
   "source": [
    "print(colores)"
   ]
  },
  {
   "cell_type": "code",
   "execution_count": 5,
   "id": "891c54e1-bf20-41c6-a078-68d7d6be32bf",
   "metadata": {},
   "outputs": [],
   "source": [
    "materias = pd.Series({'Matematica':6, 'Historia':9, 'Lengua':5})"
   ]
  },
  {
   "cell_type": "code",
   "execution_count": 6,
   "id": "56353b82-e1ec-4d8e-8893-8dd869e50fa8",
   "metadata": {},
   "outputs": [
    {
     "name": "stdout",
     "output_type": "stream",
     "text": [
      "Matematica    6\n",
      "Historia      9\n",
      "Lengua        5\n",
      "dtype: int64\n"
     ]
    }
   ],
   "source": [
    "print(materias)"
   ]
  },
  {
   "cell_type": "code",
   "execution_count": 8,
   "id": "23ce703a-0fae-47cd-87e6-7cf9d7445ca1",
   "metadata": {},
   "outputs": [],
   "source": [
    "numeros = pd.Series([1,2,3,4,5,6,7,8,9])"
   ]
  },
  {
   "cell_type": "code",
   "execution_count": 13,
   "id": "0845b660-f2b0-4896-94b2-2bf56df8c92f",
   "metadata": {},
   "outputs": [
    {
     "data": {
      "text/plain": [
       "dtype('int64')"
      ]
     },
     "execution_count": 13,
     "metadata": {},
     "output_type": "execute_result"
    }
   ],
   "source": [
    "numeros.dtype"
   ]
  },
  {
   "cell_type": "code",
   "execution_count": 14,
   "id": "0810df50-afd3-4578-9a91-a332866d6944",
   "metadata": {},
   "outputs": [
    {
     "data": {
      "text/plain": [
       "2    amarillo\n",
       "3       verde\n",
       "dtype: object"
      ]
     },
     "execution_count": 14,
     "metadata": {},
     "output_type": "execute_result"
    }
   ],
   "source": [
    "colores[2:4]"
   ]
  },
  {
   "cell_type": "code",
   "execution_count": 16,
   "id": "f4c5bf32-0a9c-4e58-be48-69394bb1bb98",
   "metadata": {},
   "outputs": [
    {
     "data": {
      "text/plain": [
       "6"
      ]
     },
     "execution_count": 16,
     "metadata": {},
     "output_type": "execute_result"
    }
   ],
   "source": [
    "materias['Matematica']"
   ]
  },
  {
   "cell_type": "code",
   "execution_count": 18,
   "id": "fcabf157-138b-4ee4-b2de-70e5b12451eb",
   "metadata": {},
   "outputs": [
    {
     "data": {
      "text/plain": [
       "Historia    9\n",
       "Lengua      5\n",
       "dtype: int64"
      ]
     },
     "execution_count": 18,
     "metadata": {},
     "output_type": "execute_result"
    }
   ],
   "source": [
    "materias[['Historia','Lengua']]"
   ]
  },
  {
   "cell_type": "code",
   "execution_count": 19,
   "id": "9d1c6a2d-02ae-4962-89ec-3e55fb1d3d5d",
   "metadata": {},
   "outputs": [
    {
     "data": {
      "text/plain": [
       "0     2\n",
       "1     4\n",
       "2     6\n",
       "3     8\n",
       "4    10\n",
       "5    12\n",
       "6    14\n",
       "7    16\n",
       "8    18\n",
       "dtype: int64"
      ]
     },
     "execution_count": 19,
     "metadata": {},
     "output_type": "execute_result"
    }
   ],
   "source": [
    "numeros*2"
   ]
  },
  {
   "cell_type": "code",
   "execution_count": null,
   "id": "1a689a16-ed76-437d-bba7-8b95056b74ec",
   "metadata": {},
   "outputs": [],
   "source": []
  }
 ],
 "metadata": {
  "kernelspec": {
   "display_name": "Python 3 (ipykernel)",
   "language": "python",
   "name": "python3"
  },
  "language_info": {
   "codemirror_mode": {
    "name": "ipython",
    "version": 3
   },
   "file_extension": ".py",
   "mimetype": "text/x-python",
   "name": "python",
   "nbconvert_exporter": "python",
   "pygments_lexer": "ipython3",
   "version": "3.11.7"
  }
 },
 "nbformat": 4,
 "nbformat_minor": 5
}
