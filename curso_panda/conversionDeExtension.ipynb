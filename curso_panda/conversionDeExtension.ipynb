{
 "cells": [
  {
   "cell_type": "code",
   "execution_count": null,
   "id": "4ef87792-26e2-415d-beaa-f409131cb1b9",
   "metadata": {},
   "outputs": [],
   "source": [
    "import pandas as pd"
   ]
  },
  {
   "cell_type": "code",
   "execution_count": 10,
   "id": "3aa7cc7a-7609-4337-872f-648c884b4a7d",
   "metadata": {},
   "outputs": [],
   "source": [
    "df = pd.read_csv('Alumnos.csv')"
   ]
  },
  {
   "cell_type": "code",
   "execution_count": 11,
   "id": "52cf6c97-bf1c-4ba1-bd67-29f0ba55b3e5",
   "metadata": {},
   "outputs": [
    {
     "data": {
      "text/html": [
       "<div>\n",
       "<style scoped>\n",
       "    .dataframe tbody tr th:only-of-type {\n",
       "        vertical-align: middle;\n",
       "    }\n",
       "\n",
       "    .dataframe tbody tr th {\n",
       "        vertical-align: top;\n",
       "    }\n",
       "\n",
       "    .dataframe thead th {\n",
       "        text-align: right;\n",
       "    }\n",
       "</style>\n",
       "<table border=\"1\" class=\"dataframe\">\n",
       "  <thead>\n",
       "    <tr style=\"text-align: right;\">\n",
       "      <th></th>\n",
       "      <th>Nombre</th>\n",
       "      <th>Edad</th>\n",
       "      <th>Genero</th>\n",
       "      <th>Carrera</th>\n",
       "      <th>Semestre</th>\n",
       "    </tr>\n",
       "  </thead>\n",
       "  <tbody>\n",
       "    <tr>\n",
       "      <th>0</th>\n",
       "      <td>Victor</td>\n",
       "      <td>28</td>\n",
       "      <td>M</td>\n",
       "      <td>Auditoria</td>\n",
       "      <td>Primero</td>\n",
       "    </tr>\n",
       "    <tr>\n",
       "      <th>1</th>\n",
       "      <td>Laura</td>\n",
       "      <td>23</td>\n",
       "      <td>F</td>\n",
       "      <td>Informatica</td>\n",
       "      <td>Primero</td>\n",
       "    </tr>\n",
       "    <tr>\n",
       "      <th>2</th>\n",
       "      <td>Raul</td>\n",
       "      <td>26</td>\n",
       "      <td>M</td>\n",
       "      <td>Derecho</td>\n",
       "      <td>Quinto</td>\n",
       "    </tr>\n",
       "    <tr>\n",
       "      <th>3</th>\n",
       "      <td>Lucia</td>\n",
       "      <td>27</td>\n",
       "      <td>F</td>\n",
       "      <td>Informatica</td>\n",
       "      <td>Septimo</td>\n",
       "    </tr>\n",
       "    <tr>\n",
       "      <th>4</th>\n",
       "      <td>Rodrigo</td>\n",
       "      <td>22</td>\n",
       "      <td>M</td>\n",
       "      <td>Derecho</td>\n",
       "      <td>Tercero</td>\n",
       "    </tr>\n",
       "    <tr>\n",
       "      <th>5</th>\n",
       "      <td>Luis</td>\n",
       "      <td>25</td>\n",
       "      <td>M</td>\n",
       "      <td>Arquitectura</td>\n",
       "      <td>Septimo</td>\n",
       "    </tr>\n",
       "    <tr>\n",
       "      <th>6</th>\n",
       "      <td>Ana</td>\n",
       "      <td>23</td>\n",
       "      <td>F</td>\n",
       "      <td>Informatica</td>\n",
       "      <td>Primero</td>\n",
       "    </tr>\n",
       "    <tr>\n",
       "      <th>7</th>\n",
       "      <td>Joaquin</td>\n",
       "      <td>24</td>\n",
       "      <td>M</td>\n",
       "      <td>Economia</td>\n",
       "      <td>Noveno</td>\n",
       "    </tr>\n",
       "  </tbody>\n",
       "</table>\n",
       "</div>"
      ],
      "text/plain": [
       "   Nombre   Edad Genero       Carrera Semestre\n",
       "0   Victor    28      M     Auditoria  Primero\n",
       "1    Laura    23      F   Informatica  Primero\n",
       "2     Raul    26      M       Derecho   Quinto\n",
       "3    Lucia    27      F   Informatica  Septimo\n",
       "4  Rodrigo    22      M       Derecho  Tercero\n",
       "5     Luis    25      M  Arquitectura  Septimo\n",
       "6      Ana    23      F   Informatica  Primero\n",
       "7  Joaquin    24      M      Economia   Noveno"
      ]
     },
     "execution_count": 11,
     "metadata": {},
     "output_type": "execute_result"
    }
   ],
   "source": [
    "df"
   ]
  },
  {
   "cell_type": "code",
   "execution_count": 1,
   "id": "c914fca8-29a7-4eea-91ae-23795147c0d6",
   "metadata": {},
   "outputs": [
    {
     "ename": "NameError",
     "evalue": "name 'pd' is not defined",
     "output_type": "error",
     "traceback": [
      "\u001b[1;31m---------------------------------------------------------------------------\u001b[0m",
      "\u001b[1;31mNameError\u001b[0m                                 Traceback (most recent call last)",
      "Cell \u001b[1;32mIn[1], line 1\u001b[0m\n\u001b[1;32m----> 1\u001b[0m convertir \u001b[38;5;241m=\u001b[39m pd\u001b[38;5;241m.\u001b[39mread_excel(\u001b[38;5;124m'\u001b[39m\u001b[38;5;124mAlumnos.xlsx\u001b[39m\u001b[38;5;124m'\u001b[39m)\n",
      "\u001b[1;31mNameError\u001b[0m: name 'pd' is not defined"
     ]
    }
   ],
   "source": [
    "convertir = pd.read_excel('Alumnos.xlsx')"
   ]
  },
  {
   "cell_type": "code",
   "execution_count": 9,
   "id": "52fff2d9-9ac8-44ad-b0e7-1448e2ee5a48",
   "metadata": {},
   "outputs": [],
   "source": [
    "convertir.to_csv('Alumnos.csv', index=None, header=True)"
   ]
  },
  {
   "cell_type": "code",
   "execution_count": null,
   "id": "a10da720-a3c6-4fce-87ed-c1fd50757120",
   "metadata": {},
   "outputs": [],
   "source": []
  },
  {
   "cell_type": "code",
   "execution_count": null,
   "id": "d5b004bb-0e0e-4bd8-81ab-d8af4d938a65",
   "metadata": {},
   "outputs": [],
   "source": []
  }
 ],
 "metadata": {
  "kernelspec": {
   "display_name": "Python 3 (ipykernel)",
   "language": "python",
   "name": "python3"
  },
  "language_info": {
   "codemirror_mode": {
    "name": "ipython",
    "version": 3
   },
   "file_extension": ".py",
   "mimetype": "text/x-python",
   "name": "python",
   "nbconvert_exporter": "python",
   "pygments_lexer": "ipython3",
   "version": "3.11.7"
  }
 },
 "nbformat": 4,
 "nbformat_minor": 5
}
